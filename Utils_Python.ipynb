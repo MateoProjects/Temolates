{
  "nbformat": 4,
  "nbformat_minor": 0,
  "metadata": {
    "colab": {
      "name": "Utils Python.ipynb",
      "provenance": [],
      "authorship_tag": "ABX9TyP9OoKkPdP2HpfG/73lLegR",
      "include_colab_link": true
    },
    "kernelspec": {
      "name": "python3",
      "display_name": "Python 3"
    },
    "language_info": {
      "name": "python"
    }
  },
  "cells": [
    {
      "cell_type": "markdown",
      "metadata": {
        "id": "view-in-github",
        "colab_type": "text"
      },
      "source": [
        "<a href=\"https://colab.research.google.com/github/MateoProjects/Utils/blob/main/Utils_Python.ipynb\" target=\"_parent\"><img src=\"https://colab.research.google.com/assets/colab-badge.svg\" alt=\"Open In Colab\"/></a>"
      ]
    },
    {
      "cell_type": "markdown",
      "metadata": {
        "id": "gtm81YoVREa2"
      },
      "source": [
        "# Utils\n",
        "\n",
        "Functions that can be used on python projects"
      ]
    },
    {
      "cell_type": "markdown",
      "metadata": {
        "id": "mFRKigK3RQJu"
      },
      "source": [
        "## Generate a random Key for http server to add more security or for API key"
      ]
    },
    {
      "cell_type": "code",
      "metadata": {
        "colab": {
          "base_uri": "https://localhost:8080/",
          "height": 35
        },
        "id": "8XCUVZP0RDUK",
        "outputId": "498767de-5ab2-446e-e33f-5d4c0da913c0"
      },
      "source": [
        "import secrets\n",
        "secrets.token_hex(20)"
      ],
      "execution_count": null,
      "outputs": [
        {
          "output_type": "execute_result",
          "data": {
            "application/vnd.google.colaboratory.intrinsic+json": {
              "type": "string"
            },
            "text/plain": [
              "'04f08d5b3f12ac14f763f86db507f6c1681fa0ad'"
            ]
          },
          "metadata": {},
          "execution_count": 1
        }
      ]
    },
    {
      "cell_type": "markdown",
      "metadata": {
        "id": "NfDy0H_12eAP"
      },
      "source": [
        "## Utils functions for Strings "
      ]
    },
    {
      "cell_type": "markdown",
      "metadata": {
        "id": "4cqoJGJBefFS"
      },
      "source": [
        "* Delete white spaces"
      ]
    },
    {
      "cell_type": "code",
      "metadata": {
        "colab": {
          "base_uri": "https://localhost:8080/",
          "height": 35
        },
        "id": "DoQHmtqRehrp",
        "outputId": "943ad91b-e43c-4188-ae06-135cce9c18b8"
      },
      "source": [
        "s = '  Hello  World   From Pankaj \\t\\n\\r\\tHi There  '\n",
        "s.strip()"
      ],
      "execution_count": null,
      "outputs": [
        {
          "output_type": "execute_result",
          "data": {
            "application/vnd.google.colaboratory.intrinsic+json": {
              "type": "string"
            },
            "text/plain": [
              "'Hello  World   From Pankaj \\t\\n\\r\\tHi There'"
            ]
          },
          "metadata": {},
          "execution_count": 2
        }
      ]
    },
    {
      "cell_type": "code",
      "metadata": {
        "colab": {
          "base_uri": "https://localhost:8080/",
          "height": 35
        },
        "id": "Ntrz_ykheqiG",
        "outputId": "10b9d274-21f8-4a8f-8b80-8c1159eacc33"
      },
      "source": [
        "s = '  Hello  World   From Pankaj \\t\\n\\r\\tHi There  '\n",
        "s.replace(\" \", \"\")\n"
      ],
      "execution_count": null,
      "outputs": [
        {
          "output_type": "execute_result",
          "data": {
            "application/vnd.google.colaboratory.intrinsic+json": {
              "type": "string"
            },
            "text/plain": [
              "'HelloWorldFromPankaj\\t\\n\\r\\tHiThere'"
            ]
          },
          "metadata": {},
          "execution_count": 3
        }
      ]
    },
    {
      "cell_type": "code",
      "metadata": {
        "colab": {
          "base_uri": "https://localhost:8080/",
          "height": 35
        },
        "id": "E2UoKoxMev_r",
        "outputId": "f29b4e67-577b-4a4b-b4bb-6a497b8f70c3"
      },
      "source": [
        "s = '  Hello  World   From Pankaj \\t\\n\\r\\tHi There  '\n",
        "\" \".join(s.split())"
      ],
      "execution_count": null,
      "outputs": [
        {
          "output_type": "execute_result",
          "data": {
            "application/vnd.google.colaboratory.intrinsic+json": {
              "type": "string"
            },
            "text/plain": [
              "'Hello World From Pankaj Hi There'"
            ]
          },
          "metadata": {},
          "execution_count": 4
        }
      ]
    },
    {
      "cell_type": "markdown",
      "metadata": {
        "id": "slbW6IuW1Uxv"
      },
      "source": [
        "## Sort a dictionary by values\n",
        "\n",
        "\n",
        "\n"
      ]
    },
    {
      "cell_type": "code",
      "metadata": {
        "colab": {
          "base_uri": "https://localhost:8080/"
        },
        "id": "gKe--oIT1zMR",
        "outputId": "d545f49a-2c9e-4418-9c30-199c89a54eb9"
      },
      "source": [
        "marks = {'Physics':67, 'Maths':87}\n",
        "\n",
        "print(marks.items())"
      ],
      "execution_count": 1,
      "outputs": [
        {
          "output_type": "stream",
          "name": "stdout",
          "text": [
            "dict_items([('Physics', 67), ('Maths', 87)])\n"
          ]
        }
      ]
    },
    {
      "cell_type": "code",
      "metadata": {
        "id": "1pVi5i7M1Zyn"
      },
      "source": [
        "#assuming that dictionary is created and are a pair of {key: value}\n",
        "stopwords_ordered = sorted(stopwords_dict.items(), key=lambda x: x[1], reverse=True)\n"
      ],
      "execution_count": null,
      "outputs": []
    }
  ]
}