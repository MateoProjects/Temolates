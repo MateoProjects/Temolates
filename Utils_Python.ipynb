{
  "nbformat": 4,
  "nbformat_minor": 0,
  "metadata": {
    "colab": {
      "name": "Utils Python.ipynb",
      "provenance": [],
      "authorship_tag": "ABX9TyNK+5ZUfJzmY89m2TLZPOcJ",
      "include_colab_link": true
    },
    "kernelspec": {
      "name": "python3",
      "display_name": "Python 3"
    },
    "language_info": {
      "name": "python"
    }
  },
  "cells": [
    {
      "cell_type": "markdown",
      "metadata": {
        "id": "view-in-github",
        "colab_type": "text"
      },
      "source": [
        "<a href=\"https://colab.research.google.com/github/MateoProjects/Utils/blob/main/Utils_Python.ipynb\" target=\"_parent\"><img src=\"https://colab.research.google.com/assets/colab-badge.svg\" alt=\"Open In Colab\"/></a>"
      ]
    },
    {
      "cell_type": "markdown",
      "metadata": {
        "id": "gtm81YoVREa2"
      },
      "source": [
        "# Utils\n",
        "\n",
        "Functions that can be used on python projects"
      ]
    },
    {
      "cell_type": "markdown",
      "metadata": {
        "id": "mFRKigK3RQJu"
      },
      "source": [
        "Generate a random Key for http server to add more security or for API key"
      ]
    },
    {
      "cell_type": "code",
      "metadata": {
        "colab": {
          "base_uri": "https://localhost:8080/",
          "height": 35
        },
        "id": "8XCUVZP0RDUK",
        "outputId": "498767de-5ab2-446e-e33f-5d4c0da913c0"
      },
      "source": [
        "import secrets\n",
        "secrets.token_hex(20)"
      ],
      "execution_count": 1,
      "outputs": [
        {
          "output_type": "execute_result",
          "data": {
            "application/vnd.google.colaboratory.intrinsic+json": {
              "type": "string"
            },
            "text/plain": [
              "'04f08d5b3f12ac14f763f86db507f6c1681fa0ad'"
            ]
          },
          "metadata": {},
          "execution_count": 1
        }
      ]
    }
  ]
}